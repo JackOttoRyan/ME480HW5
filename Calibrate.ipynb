{
 "cells": [
  {
   "cell_type": "code",
   "execution_count": 22,
   "metadata": {},
   "outputs": [],
   "source": [
    "from solid import *\n",
    "from solid.utils import *\n",
    "import viewscad\n",
    "\n",
    "\n",
    "r = viewscad.Renderer(openscad_exec= r'C:\\Users\\Jack Ryan\\Desktop\\OpenSCAD\\openscad.exe')"
   ]
  },
  {
   "cell_type": "code",
   "execution_count": 29,
   "metadata": {},
   "outputs": [
    {
     "data": {
      "application/vnd.jupyter.widget-view+json": {
       "model_id": "fd3eeed84fc54b5eab20a69a7a4c6e22",
       "version_major": 2,
       "version_minor": 0
      },
      "text/plain": [
       "VBox(children=(HTML(value=''), Renderer(background='#cccc88', background_opacity=0.0, camera=PerspectiveCamera…"
      ]
     },
     "metadata": {},
     "output_type": "display_data"
    }
   ],
   "source": [
    "#1A)\n",
    "c1_1a = cylinder(d=10,h=5)\n",
    "c1_2a = cylinder(d=5,h=5)\n",
    "c1a = c1_1a - c1_2a\n",
    "r.render(c1a)"
   ]
  },
  {
   "cell_type": "code",
   "execution_count": 35,
   "metadata": {},
   "outputs": [
    {
     "data": {
      "application/vnd.jupyter.widget-view+json": {
       "model_id": "b99cd9ff2e1847afa39219530c0dce03",
       "version_major": 2,
       "version_minor": 0
      },
      "text/plain": [
       "VBox(children=(HTML(value=''), Renderer(background='#cccc88', background_opacity=0.0, camera=PerspectiveCamera…"
      ]
     },
     "metadata": {},
     "output_type": "display_data"
    }
   ],
   "source": [
    "#1B)\n",
    "def cylinder_with_hole(od,id):\n",
    "    c1_1b = cylinder(d=od,h=5)\n",
    "    c1_2b = cylinder(d=id,h=5)\n",
    "    return c1_1b - c1_2b\n",
    "r.render(cylinder_with_hole(10,5))    "
   ]
  },
  {
   "cell_type": "code",
   "execution_count": 61,
   "metadata": {},
   "outputs": [
    {
     "data": {
      "application/vnd.jupyter.widget-view+json": {
       "model_id": "8b9b5ddb90c1453584f8652f2fbe15e7",
       "version_major": 2,
       "version_minor": 0
      },
      "text/plain": [
       "VBox(children=(HTML(value=''), Renderer(background='#cccc88', background_opacity=0.0, camera=PerspectiveCamera…"
      ]
     },
     "metadata": {},
     "output_type": "display_data"
    }
   ],
   "source": [
    "#1C)\n",
    "from numpy import *\n",
    "L_id1 = 5\n",
    "L_id2 = 3\n",
    "L_od1 = 10\n",
    "L_od2 = 8\n",
    "def cylinder_with_hole_Mk2(od,id):\n",
    "    c1c_od = cylinder(d=od,h=5)\n",
    "    c1c_id = cylinder(d=id,h=5)\n",
    "    return c1c_od - c1c_id\n",
    "    \n",
    "r.render(translate([0,7,0])(cylinder_with_hole_Mk2(L_od1,L_id1))+cylinder_with_hole_Mk2(L_od2,L_id2)) "
   ]
  },
  {
   "cell_type": "code",
   "execution_count": null,
   "metadata": {},
   "outputs": [],
   "source": []
  }
 ],
 "metadata": {
  "kernelspec": {
   "display_name": "Python 3",
   "language": "python",
   "name": "python3"
  },
  "language_info": {
   "codemirror_mode": {
    "name": "ipython",
    "version": 3
   },
   "file_extension": ".py",
   "mimetype": "text/x-python",
   "name": "python",
   "nbconvert_exporter": "python",
   "pygments_lexer": "ipython3",
   "version": "3.7.4"
  }
 },
 "nbformat": 4,
 "nbformat_minor": 2
}

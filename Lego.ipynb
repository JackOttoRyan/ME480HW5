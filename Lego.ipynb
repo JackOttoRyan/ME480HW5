{
 "cells": [
  {
   "cell_type": "code",
   "execution_count": 1,
   "metadata": {},
   "outputs": [],
   "source": [
    "from solid import *\n",
    "from solid.utils import *\n",
    "from numpy import *\n",
    "import viewscad\n",
    "\n",
    "r = viewscad.Renderer(openscad_exec= r'C:\\Users\\Jack Ryan\\Desktop\\OpenSCAD\\openscad.exe')"
   ]
  },
  {
   "cell_type": "code",
   "execution_count": 8,
   "metadata": {},
   "outputs": [],
   "source": [
    "#4a Technic Rail Generator\n",
    "L_h = 5 #num holes in length \n",
    "W_h = 2 #num holes in width\n",
    "spc = 7.97 #x or y spaceing between holes\n",
    "r_d = 7.38 #rail diameter\n",
    "h_d = 5 #hole diameter\n",
    "h = 7.76 #beam height/hole depth"
   ]
  },
  {
   "cell_type": "code",
   "execution_count": 21,
   "metadata": {},
   "outputs": [],
   "source": [
    "L_h = 5 #num holes in length \n",
    "W_h = 2 #num holes in width\n",
    "spc = 7.97 #x or y spaceing between holes\n",
    "r_d = 7.38 #rail diameter\n",
    "h_d = 5 #hole diameter\n",
    "h = 7.76 #beam height/hole depth\n",
    "def Rail(r_d,h,spc,L_h,W_h):\n",
    "    R1 = cylinder(d=r_d,h=h)\n",
    "    R2 = translate([0,(L_h*spc),0])(R1)\n",
    "    R3 = hull()(R1,R2)\n",
    "    R4 = translate([(W_h-1)*spc,0,0])(R3)\n",
    "    R_B = hull()(R3,R4)\n",
    "    return R_B\n",
    "#r.render(Rail(r_d,r_h,spc,L_h,W_h))"
   ]
  },
  {
   "cell_type": "code",
   "execution_count": 22,
   "metadata": {},
   "outputs": [],
   "source": [
    "L_h = 5 #num holes in length \n",
    "W_h = 2 #num holes in width\n",
    "spc = 7.97 #x or y spaceing between holes\n",
    "r_d = 7.38 #rail diameter\n",
    "h_d = 5 #hole diameter\n",
    "h = 7.76 #beam height/hole depth\n",
    "def Holes(h_d,h,spc,L_h,W_h):\n",
    "    H1 = cylinder(d=h_d,h=h)\n",
    "    for j in range(1,L_h):\n",
    "        H2 = translate([0,(j*spc),0])(H1)+H1\n",
    "        H1 = H2\n",
    "    for k in range(1,W_h):\n",
    "        H3 = translate([k*spc,0,0])(H2)+H2\n",
    "        H2 = H3\n",
    "    H_B = H3\n",
    "    return H_B\n",
    "#r.render(Holes(h_d,h,spc,L_h,W_h))  "
   ]
  },
  {
   "cell_type": "code",
   "execution_count": 23,
   "metadata": {},
   "outputs": [
    {
     "data": {
      "application/vnd.jupyter.widget-view+json": {
       "model_id": "fac05d7f93f64e3b882701ac70a0117c",
       "version_major": 2,
       "version_minor": 0
      },
      "text/plain": [
       "VBox(children=(HTML(value=''), Renderer(background='#cccc88', background_opacity=0.0, camera=PerspectiveCamera…"
      ]
     },
     "metadata": {},
     "output_type": "display_data"
    }
   ],
   "source": [
    "L_h = 5 #num holes in length \n",
    "W_h = 2 #num holes in width\n",
    "spc = 7.97 #x or y spaceing between holes\n",
    "r_d = 7.38 #rail diameter\n",
    "h_d = 5 #hole diameter\n",
    "h = 7.76 #beam height/hole depth\n",
    "\n",
    "TechnicRail = Rail(r_d,r_h,spc,L_h,W_h) - Holes(h_d,h,spc,L_h,W_h) \n",
    "\n",
    "r.render(TechnicRail)"
   ]
  },
  {
   "cell_type": "code",
   "execution_count": 24,
   "metadata": {},
   "outputs": [],
   "source": [
    "#4b\n",
    "#Making the stepper motor mount\n",
    "#Numbers Rep NEMA standards\n",
    "N11_BHD = 23 #Bolt Hole Square Distance\n",
    "N11_BHS = 4 #Bolt Hole Size\n",
    "N11_MSD = 5 #Motor Shaft Diameter\n",
    "N17_BHD = 31 #Bolt Hole Square Distance\n",
    "N17_BHS = 4 #Bolt Hole Size\n",
    "N17_MSD = 5 #Motor Shaft Diameter\n"
   ]
  },
  {
   "cell_type": "code",
   "execution_count": 52,
   "metadata": {},
   "outputs": [],
   "source": [
    "#Making leg cylinders\n",
    "\n",
    "N11_BHD = 23 #Bolt Hole Square Distance\n",
    "N11_BHS = 4 #Bolt Hole Size\n",
    "N11_MSD = 5 #Motor Shaft Diameter\n",
    "N17_BHD = 31 #Bolt Hole Square Distance\n",
    "N17_BHS = 4 #Bolt Hole Size\n",
    "N17_MSD = 5 #Motor Shaft Diameter\n",
    "\n",
    "L_h = 2\n",
    "W_h = 2\n",
    "spc = N17_BHD\n",
    "d1 = 10\n",
    "h1 = 10\n",
    "\n",
    "def Cylinders(d,h,spc,L_h,W_h): # Cyl dim, cyl height, instances in y, instances in x\n",
    "    C1 = cylinder(d=d,h=h)\n",
    "    for j in range(1,L_h):\n",
    "        C2 = translate([0,(j*spc),0])(C1)+C1\n",
    "        C1 = C2\n",
    "    for k in range(1,W_h):\n",
    "        C3 = translate([(k*spc),0,0])(C2)+C2\n",
    "        C2 = C3\n",
    "    C_B = C3\n",
    "    return C_B\n",
    "C_B = Cylinders(d1,h1,spc,L_h,W_h) \n",
    "#r.render(C_B)"
   ]
  },
  {
   "cell_type": "code",
   "execution_count": 55,
   "metadata": {},
   "outputs": [],
   "source": [
    "# Making Platform\n",
    "\n",
    "N11_BHD = 23 #Bolt Hole Square Distance\n",
    "N11_BHS = 4 #Bolt Hole Size\n",
    "N11_MSD = 5 #Motor Shaft Diameter\n",
    "N17_BHD = 31 #Bolt Hole Square Distance\n",
    "N17_BHS = 4 #Bolt Hole Size\n",
    "N17_MSD = 5 #Motor Shaft Diameter\n",
    "\n",
    "spc = N17_BHD\n",
    "d2 = 12\n",
    "h2 = 5\n",
    "\n",
    "# gen plate\n",
    "def Plate(d,h,spc):\n",
    "    P1 = cylinder(d=d,h=h)\n",
    "    P2 = translate([0,spc,0])(P1)\n",
    "    P3 = hull()(P1,P2)\n",
    "    P4 = translate([spc,0,0])(P3)\n",
    "    P_B = hull()(P3,P4)\n",
    "    return P_B\n",
    "\n",
    "P_B = Plate(d2,h2,spc)\n",
    "#translate up in space\n",
    "h_t = 5 #distance shifted up\n",
    "P_B = translate([0,0,h_t])(P_B)\n",
    "#r.render(P_B)"
   ]
  },
  {
   "cell_type": "code",
   "execution_count": 36,
   "metadata": {},
   "outputs": [],
   "source": [
    "#Combining Supports with Platform\n",
    "\n",
    "N11_BHD = 23 #Bolt Hole Square Distance\n",
    "N11_BHS = 4 #Bolt Hole Size\n",
    "N11_MSD = 5 #Motor Shaft Diameter\n",
    "N17_BHD = 31 #Bolt Hole Square Distance\n",
    "N17_BHS = 4 #Bolt Hole Size\n",
    "N17_MSD = 5 #Motor Shaft Diameter\n",
    "\n",
    "L_h = 2\n",
    "W_h = 2\n",
    "spc = N17_BHD\n",
    "d1 = 10\n",
    "h1 = 10\n",
    "d2 = 12\n",
    "h2 = 5\n",
    "h_t = 5\n",
    "\n",
    "P_wC = Cylinders(d1,h1,spc,L_h,W_h) + translate([0,0,h_t])(Plate(d2,h2,spc))  #P_B + C_B\n",
    "#r.render(P_wC)"
   ]
  },
  {
   "cell_type": "code",
   "execution_count": 38,
   "metadata": {},
   "outputs": [],
   "source": [
    "#Generating Holes\n",
    "\n",
    "N11_BHD = 23 #Bolt Hole Square Distance\n",
    "N11_BHS = 4 #Bolt Hole Size\n",
    "N11_MSD = 5 #Motor Shaft Diameter\n",
    "N17_BHD = 31 #Bolt Hole Square Distance\n",
    "N17_BHS = 4 #Bolt Hole Size\n",
    "N17_MSD = 5 #Motor Shaft Diameter\n",
    "\n",
    "L_h = 2\n",
    "W_h = 2\n",
    "spc = N17_BHD\n",
    "d3 = N17_BHS+1\n",
    "h3 = 10\n",
    "\n",
    "def HolesMk2(d,h,spc,L_h,W_h): # Cyl dim, cyl height, instances in y, instances in x\n",
    "    H1 = cylinder(d=d,h=h)\n",
    "    for j in range(1,L_h):\n",
    "        H2 = translate([0,(j*spc),0])(H1)+H1\n",
    "        H1 = H2\n",
    "    for k in range(1,W_h):\n",
    "        H3 = translate([k*spc,0,0])(H2)+H2\n",
    "        H2 = H3\n",
    "    H_B = H3\n",
    "    return H_B\n",
    "H_B = HolesMk2(d3,h3,spc,L_h,W_h) \n",
    "#r.render(H_B)"
   ]
  },
  {
   "cell_type": "code",
   "execution_count": 42,
   "metadata": {},
   "outputs": [
    {
     "data": {
      "application/vnd.jupyter.widget-view+json": {
       "model_id": "3139794128264b38bdd2f486b63fed64",
       "version_major": 2,
       "version_minor": 0
      },
      "text/plain": [
       "VBox(children=(HTML(value=''), Renderer(background='#cccc88', background_opacity=0.0, camera=PerspectiveCamera…"
      ]
     },
     "metadata": {},
     "output_type": "display_data"
    }
   ],
   "source": [
    "# Making bolt plates for bottoms of legs\n",
    "\n",
    "N11_BHD = 23 #Bolt Hole Square Distance\n",
    "N11_BHS = 4 #Bolt Hole Size\n",
    "N11_MSD = 5 #Motor Shaft Diameter\n",
    "N17_BHD = 31 #Bolt Hole Square Distance\n",
    "N17_BHS = 4 #Bolt Hole Size\n",
    "N17_MSD = 5 #Motor Shaft Diameter\n",
    "\n",
    "L_h = 2\n",
    "W_h = 2\n",
    "spc = N17_BHD\n",
    "d4 = 12\n",
    "h4 = 2\n",
    "\n",
    "def BP(d,h,spc,L_h,W_h): # Cyl dim, cyl height, instances in y, instances in x\n",
    "    BP_B1 = cylinder(d=d,h=h)\n",
    "    for j in range(1,L_h):\n",
    "        BP_B2 = translate([0,(j*spc),0])(BP_B1)+BP_B1\n",
    "        BP_B1 = BP_B2\n",
    "    for k in range(1,W_h):\n",
    "        BP_B3 = translate([k*spc,0,0])(BP_B2)+BP_B2\n",
    "        BP_B2 = BP_B3\n",
    "    BP_B = BP_B3\n",
    "    return BP_B\n",
    "BP_B = BP(d4,h4,spc,L_h,W_h) \n",
    "#r.render(BP_B)"
   ]
  },
  {
   "cell_type": "code",
   "execution_count": 44,
   "metadata": {},
   "outputs": [
    {
     "data": {
      "application/vnd.jupyter.widget-view+json": {
       "model_id": "3e37f2db981b4a1ba1aa25f07b1e9bd8",
       "version_major": 2,
       "version_minor": 0
      },
      "text/plain": [
       "VBox(children=(HTML(value=''), Renderer(background='#cccc88', background_opacity=0.0, camera=PerspectiveCamera…"
      ]
     },
     "metadata": {},
     "output_type": "display_data"
    }
   ],
   "source": [
    "#Generating central hole\n",
    "\n",
    "d_CH = N17_MSD+2\n",
    "h_CH = 10\n",
    "spc = N17_BHD\n",
    "\n",
    "C_H = translate([spc/2,spc/2,0])(cylinder(d=d_CH,h=h_CH))\n",
    "#r.render(C_H)"
   ]
  },
  {
   "cell_type": "code",
   "execution_count": 58,
   "metadata": {},
   "outputs": [
    {
     "data": {
      "application/vnd.jupyter.widget-view+json": {
       "model_id": "4ec3efcd9781440494d71ea4e8dc234b",
       "version_major": 2,
       "version_minor": 0
      },
      "text/plain": [
       "VBox(children=(HTML(value=''), Renderer(background='#cccc88', background_opacity=0.0, camera=PerspectiveCamera…"
      ]
     },
     "metadata": {},
     "output_type": "display_data"
    }
   ],
   "source": [
    "#Combining All parts into 1\n",
    "\n",
    "N11_BHD = 23 #Bolt Hole Square Distance\n",
    "N11_BHS = 4 #Bolt Hole Size\n",
    "N11_MSD = 5 #Motor Shaft Diameter\n",
    "N17_BHD = 31 #Bolt Hole Square Distance\n",
    "N17_BHS = 4 #Bolt Hole Size\n",
    "N17_MSD = 5 #Motor Shaft Diameter\n",
    "\n",
    "L_h = 2\n",
    "W_h = 2\n",
    "spc = N17_BHD\n",
    "d1 = 10\n",
    "h1 = 10\n",
    "d2 = 10\n",
    "h2 = 5\n",
    "h_t = 5\n",
    "d3 = N17_BHS+1\n",
    "h3 = 10\n",
    "d4 = 10\n",
    "h4 = 2\n",
    "d_CH = N17_MSD+20\n",
    "h_CH = 10\n",
    "\n",
    "P_wC = Cylinders(d1,h1,spc,L_h,W_h) + translate([0,0,h_t])(Plate(d2,h2,spc))  #P_B + C_B\n",
    "P_wC_wH = P_wC - HolesMk2(d3,h3,spc,L_h,W_h) - translate([spc/2,spc/2,0])(cylinder(d=d_CH,h=h_CH)) #Plat,Legs,Holes\n",
    "Final = P_wC_wH + BP(d4,h4,spc,L_h,W_h) \n",
    "r.render(Final)"
   ]
  },
  {
   "cell_type": "code",
   "execution_count": null,
   "metadata": {},
   "outputs": [],
   "source": []
  }
 ],
 "metadata": {
  "kernelspec": {
   "display_name": "Python 3",
   "language": "python",
   "name": "python3"
  },
  "language_info": {
   "codemirror_mode": {
    "name": "ipython",
    "version": 3
   },
   "file_extension": ".py",
   "mimetype": "text/x-python",
   "name": "python",
   "nbconvert_exporter": "python",
   "pygments_lexer": "ipython3",
   "version": "3.7.4"
  }
 },
 "nbformat": 4,
 "nbformat_minor": 2
}

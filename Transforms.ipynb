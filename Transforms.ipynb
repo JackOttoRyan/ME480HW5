{
 "cells": [
  {
   "cell_type": "code",
   "execution_count": 15,
   "metadata": {},
   "outputs": [],
   "source": [
    "from solid import *\n",
    "from solid.utils import *\n",
    "from numpy import *\n",
    "import viewscad\n",
    "\n",
    "r = viewscad.Renderer(openscad_exec= r'C:\\Users\\Jack Ryan\\Desktop\\OpenSCAD\\openscad.exe')"
   ]
  },
  {
   "cell_type": "code",
   "execution_count": 6,
   "metadata": {},
   "outputs": [
    {
     "data": {
      "application/vnd.jupyter.widget-view+json": {
       "model_id": "046158468b224fafa9af4f27aa2f5c6b",
       "version_major": 2,
       "version_minor": 0
      },
      "text/plain": [
       "VBox(children=(HTML(value=''), Renderer(background='#cccc88', background_opacity=0.0, camera=PerspectiveCamera…"
      ]
     },
     "metadata": {},
     "output_type": "display_data"
    }
   ],
   "source": [
    "angles = [20,-10,-30]\n",
    "c1 = rotate(angles)(cube(10,True)) #true puts orgin at center\n",
    "r.render(c1)"
   ]
  },
  {
   "cell_type": "code",
   "execution_count": 16,
   "metadata": {},
   "outputs": [
    {
     "data": {
      "application/vnd.jupyter.widget-view+json": {
       "model_id": "e2538bef29e943e19128126d09fe726e",
       "version_major": 2,
       "version_minor": 0
      },
      "text/plain": [
       "VBox(children=(HTML(value=''), Renderer(background='#cccc88', background_opacity=0.0, camera=PerspectiveCamera…"
      ]
     },
     "metadata": {},
     "output_type": "display_data"
    }
   ],
   "source": [
    "c2 = translate([5,5,0])(cube(10,True)) #true puts orgin at center\n",
    "angles = [20,-10,-30]\n",
    "c1 = rotate(angles)(c2) \n",
    "r.render(c1)"
   ]
  },
  {
   "cell_type": "code",
   "execution_count": 20,
   "metadata": {},
   "outputs": [
    {
     "data": {
      "application/vnd.jupyter.widget-view+json": {
       "model_id": "4fd3d9d44f384b65b7591f67d554e512",
       "version_major": 2,
       "version_minor": 0
      },
      "text/plain": [
       "VBox(children=(HTML(value=''), Renderer(background='#cccc88', background_opacity=0.0, camera=PerspectiveCamera…"
      ]
     },
     "metadata": {},
     "output_type": "display_data"
    },
    {
     "data": {
      "application/vnd.jupyter.widget-view+json": {
       "model_id": "229a4738e88e4f3ba7e25aae7fecf429",
       "version_major": 2,
       "version_minor": 0
      },
      "text/plain": [
       "VBox(children=(HTML(value=''), Renderer(background='#cccc88', background_opacity=0.0, camera=PerspectiveCamera…"
      ]
     },
     "metadata": {},
     "output_type": "display_data"
    },
    {
     "data": {
      "application/vnd.jupyter.widget-view+json": {
       "model_id": "92a36249dc8c4f54b2d2530de43eb7f6",
       "version_major": 2,
       "version_minor": 0
      },
      "text/plain": [
       "VBox(children=(HTML(value=''), Renderer(background='#cccc88', background_opacity=0.0, camera=PerspectiveCamera…"
      ]
     },
     "metadata": {},
     "output_type": "display_data"
    }
   ],
   "source": [
    "cu = cube(1,True)\n",
    "b = 0.5\n",
    "\n",
    "x_sh_m = [[1,0,0,0],[b,1,0,0],[0,0,1,0],[0,0,0,1]]\n",
    "y_sh_m = [[1,b,0,0],[0,1,0,0],[0,0,1,0],[0,0,0,1]]\n",
    "z_sh_m = [[1,0,b,0],[0,1,0,0],[0,0,1,0],[0,0,0,1]]\n",
    "\n",
    "xshear = multmatrix(x_sh_m)(cu)\n",
    "r.render(xshear)\n",
    "\n",
    "yshear = multmatrix(y_sh_m)(xshear)\n",
    "r.render(yshear)\n",
    "\n",
    "zshear = multmatrix(z_sh_m)(yshear)\n",
    "r.render(zshear)\n",
    "\n"
   ]
  },
  {
   "cell_type": "code",
   "execution_count": null,
   "metadata": {},
   "outputs": [],
   "source": []
  }
 ],
 "metadata": {
  "kernelspec": {
   "display_name": "Python 3",
   "language": "python",
   "name": "python3"
  },
  "language_info": {
   "codemirror_mode": {
    "name": "ipython",
    "version": 3
   },
   "file_extension": ".py",
   "mimetype": "text/x-python",
   "name": "python",
   "nbconvert_exporter": "python",
   "pygments_lexer": "ipython3",
   "version": "3.7.4"
  }
 },
 "nbformat": 4,
 "nbformat_minor": 2
}
